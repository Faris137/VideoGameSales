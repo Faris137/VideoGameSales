{
 "cells": [
  {
   "cell_type": "code",
   "execution_count": 4,
   "metadata": {
    "collapsed": false
   },
   "outputs": [
    {
     "name": "stdout",
     "output_type": "stream",
     "text": [
      "Accuracy in the training data:  96.5626369473 %\n",
      "Accuracy in the test data 96.3837932351 %\n"
     ]
    }
   ],
   "source": [
    "import numpy as np\n",
    "import pandas as pd\n",
    "from sklearn.preprocessing import LabelEncoder\n",
    "from sklearn import linear_model\n",
    "from sklearn.model_selection import train_test_split\n",
    "from sklearn.preprocessing import StandardScaler\n",
    "\n",
    "%matplotlib inline\n",
    "\n",
    "df = pd.read_csv(\"vgsales.csv\")\n",
    "\n",
    "number = LabelEncoder()\n",
    "df['Platform'] = number.fit_transform(df['Platform'].astype('str'))\n",
    "df['Genre'] = number.fit_transform(df['Genre'].astype('str'))\n",
    "df['Publisher'] = number.fit_transform(df['Publisher'].astype('str'))\n",
    "\n",
    "dff = df.drop(['Rank','Name', 'Year'], axis =1)\n",
    "\n",
    "df3 = dff.drop(['NA_Sales','EU_Sales', 'JP_Sales', 'Other_Sales'], axis =1)\n",
    "\n",
    "#columns = [\"Platform\", \"Genre\", \"Publisher\"]\n",
    "#columns = [\"Platform\", \"Genre\", \"Publisher\", \"NA_Sales\", \"EU_Sales\"]\n",
    "columns = [\"Platform\", \"Genre\", \"Publisher\", \"NA_Sales\", \"EU_Sales\"]\n",
    "  \n",
    "labels = df3[\"Global_Sales\"].values\n",
    "features = dff[list(columns)].values\n",
    "\n",
    "regr = linear_model.LinearRegression()\n",
    "\n",
    "X = features\n",
    "y = labels\n",
    "\n",
    "X_train, X_test, y_train, y_test = train_test_split(X, y, test_size=0.30)\n",
    "\n",
    "scaler = StandardScaler()\n",
    "#scaler = preprocessing.MinMaxScaler()\n",
    "\n",
    "# Fit only on training data\n",
    "scaler.fit(X_train)\n",
    "X_train = scaler.transform(X_train)\n",
    "# apply same transformation to test data\n",
    "X_test = scaler.transform(X_test)\n",
    "\n",
    "regr.fit(X_train, y_train)\n",
    "\n",
    "Accuracy = regr.score(X_train, y_train)\n",
    "print \"Accuracy in the training data: \", Accuracy*100, \"%\"\n",
    "\n",
    "accuracy = regr.score(X_test, y_test)\n",
    "print \"Accuracy in the test data\", accuracy*100, \"%\""
   ]
  },
  {
   "cell_type": "code",
   "execution_count": null,
   "metadata": {
    "collapsed": true
   },
   "outputs": [],
   "source": []
  }
 ],
 "metadata": {
  "kernelspec": {
   "display_name": "Python [Root]",
   "language": "python",
   "name": "Python [Root]"
  },
  "language_info": {
   "codemirror_mode": {
    "name": "ipython",
    "version": 2
   },
   "file_extension": ".py",
   "mimetype": "text/x-python",
   "name": "python",
   "nbconvert_exporter": "python",
   "pygments_lexer": "ipython2",
   "version": "2.7.12"
  }
 },
 "nbformat": 4,
 "nbformat_minor": 0
}
